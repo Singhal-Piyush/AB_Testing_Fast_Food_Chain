{
 "cells": [
  {
   "cell_type": "markdown",
   "id": "ab0ad54f",
   "metadata": {},
   "source": [
    "# Fast Food Marketing Campaign A/B Testing"
   ]
  },
  {
   "cell_type": "markdown",
   "id": "b2ed7bbe",
   "metadata": {},
   "source": [
    "A fast-food chain plans to add a new item to its menu. However, \n",
    "they are still undecided between three possible marketing campaigns for promoting the new product.\n",
    "In order to determine which promotion has the greatest effect on sales, the new item is introduced \n",
    "at locations in several randomly selected markets.\n",
    "\n",
    "A different promotion is used at each location, and the weekly sales of the new item are recorded \n",
    "for the first four weeks."
   ]
  },
  {
   "cell_type": "code",
   "execution_count": 1,
   "id": "dccd9e68",
   "metadata": {},
   "outputs": [],
   "source": [
    "# importing Libraries and packages\n",
    "import pandas as pd\n",
    "import numpy as np\n",
    "import seaborn as sns\n",
    "import matplotlib.pyplot as plt\n",
    "%matplotlib inline"
   ]
  },
  {
   "cell_type": "code",
   "execution_count": 38,
   "id": "042c094a",
   "metadata": {},
   "outputs": [],
   "source": [
    "# Loading the dataset\n",
    "dataset = pd.read_csv(\"WA_Marketing-Campaign.csv\")"
   ]
  },
  {
   "cell_type": "code",
   "execution_count": 39,
   "id": "af0fad47",
   "metadata": {},
   "outputs": [
    {
     "data": {
      "text/html": [
       "<div>\n",
       "<style scoped>\n",
       "    .dataframe tbody tr th:only-of-type {\n",
       "        vertical-align: middle;\n",
       "    }\n",
       "\n",
       "    .dataframe tbody tr th {\n",
       "        vertical-align: top;\n",
       "    }\n",
       "\n",
       "    .dataframe thead th {\n",
       "        text-align: right;\n",
       "    }\n",
       "</style>\n",
       "<table border=\"1\" class=\"dataframe\">\n",
       "  <thead>\n",
       "    <tr style=\"text-align: right;\">\n",
       "      <th></th>\n",
       "      <th>MarketID</th>\n",
       "      <th>MarketSize</th>\n",
       "      <th>LocationID</th>\n",
       "      <th>AgeOfStore</th>\n",
       "      <th>Promotion</th>\n",
       "      <th>week</th>\n",
       "      <th>SalesInThousands</th>\n",
       "    </tr>\n",
       "  </thead>\n",
       "  <tbody>\n",
       "    <tr>\n",
       "      <th>0</th>\n",
       "      <td>1</td>\n",
       "      <td>Medium</td>\n",
       "      <td>1</td>\n",
       "      <td>4</td>\n",
       "      <td>3</td>\n",
       "      <td>1</td>\n",
       "      <td>33.73</td>\n",
       "    </tr>\n",
       "    <tr>\n",
       "      <th>1</th>\n",
       "      <td>1</td>\n",
       "      <td>Medium</td>\n",
       "      <td>1</td>\n",
       "      <td>4</td>\n",
       "      <td>3</td>\n",
       "      <td>2</td>\n",
       "      <td>35.67</td>\n",
       "    </tr>\n",
       "    <tr>\n",
       "      <th>2</th>\n",
       "      <td>1</td>\n",
       "      <td>Medium</td>\n",
       "      <td>1</td>\n",
       "      <td>4</td>\n",
       "      <td>3</td>\n",
       "      <td>3</td>\n",
       "      <td>29.03</td>\n",
       "    </tr>\n",
       "    <tr>\n",
       "      <th>3</th>\n",
       "      <td>1</td>\n",
       "      <td>Medium</td>\n",
       "      <td>1</td>\n",
       "      <td>4</td>\n",
       "      <td>3</td>\n",
       "      <td>4</td>\n",
       "      <td>39.25</td>\n",
       "    </tr>\n",
       "    <tr>\n",
       "      <th>4</th>\n",
       "      <td>1</td>\n",
       "      <td>Medium</td>\n",
       "      <td>2</td>\n",
       "      <td>5</td>\n",
       "      <td>2</td>\n",
       "      <td>1</td>\n",
       "      <td>27.81</td>\n",
       "    </tr>\n",
       "  </tbody>\n",
       "</table>\n",
       "</div>"
      ],
      "text/plain": [
       "   MarketID MarketSize  LocationID  AgeOfStore  Promotion  week  \\\n",
       "0         1     Medium           1           4          3     1   \n",
       "1         1     Medium           1           4          3     2   \n",
       "2         1     Medium           1           4          3     3   \n",
       "3         1     Medium           1           4          3     4   \n",
       "4         1     Medium           2           5          2     1   \n",
       "\n",
       "   SalesInThousands  \n",
       "0             33.73  \n",
       "1             35.67  \n",
       "2             29.03  \n",
       "3             39.25  \n",
       "4             27.81  "
      ]
     },
     "execution_count": 39,
     "metadata": {},
     "output_type": "execute_result"
    }
   ],
   "source": [
    "dataset.head()"
   ]
  },
  {
   "cell_type": "markdown",
   "id": "5c93ca50",
   "metadata": {},
   "source": [
    "Here, MarketID, LocationID, Promotion and Week combined makes a Unique Key for the dataset provided for the Marketing Campaign by the Fast Food Chain. \n",
    "\n",
    "Thus checking whether we have duplicate observation for the dataset provided."
   ]
  },
  {
   "cell_type": "code",
   "execution_count": 4,
   "id": "24b8aebc",
   "metadata": {},
   "outputs": [
    {
     "data": {
      "text/plain": [
       "0"
      ]
     },
     "execution_count": 4,
     "metadata": {},
     "output_type": "execute_result"
    }
   ],
   "source": [
    "# Checking for duplicate observation for unique id (MarketID,LocationID,Promotion,Week)\n",
    "dataset.duplicated(subset=[\"MarketID\",\"LocationID\",\"Promotion\",\"week\"]).sum()"
   ]
  },
  {
   "cell_type": "markdown",
   "id": "5b11bbb2",
   "metadata": {},
   "source": [
    "We don't have any duplicate observation in the market campaign dataset."
   ]
  },
  {
   "cell_type": "code",
   "execution_count": 5,
   "id": "da99a199",
   "metadata": {},
   "outputs": [
    {
     "data": {
      "text/plain": [
       "(548, 7)"
      ]
     },
     "execution_count": 5,
     "metadata": {},
     "output_type": "execute_result"
    }
   ],
   "source": [
    "# Collecting meta data about the original data provided\n",
    "dataset.shape"
   ]
  },
  {
   "cell_type": "code",
   "execution_count": 40,
   "id": "db88bea2",
   "metadata": {
    "scrolled": true
   },
   "outputs": [
    {
     "data": {
      "text/plain": [
       "MarketID              int64\n",
       "MarketSize           object\n",
       "LocationID            int64\n",
       "AgeOfStore            int64\n",
       "Promotion             int64\n",
       "week                  int64\n",
       "SalesInThousands    float64\n",
       "dtype: object"
      ]
     },
     "execution_count": 40,
     "metadata": {},
     "output_type": "execute_result"
    }
   ],
   "source": [
    "# Datatypes of the coumns\n",
    "dataset.dtypes"
   ]
  },
  {
   "cell_type": "markdown",
   "id": "7b3332d6",
   "metadata": {},
   "source": [
    "We have 6 numerical features and 1 feature with Object Data Types"
   ]
  },
  {
   "cell_type": "code",
   "execution_count": 6,
   "id": "5c07f026",
   "metadata": {},
   "outputs": [
    {
     "data": {
      "text/plain": [
       "MarketID            0\n",
       "MarketSize          0\n",
       "LocationID          0\n",
       "AgeOfStore          0\n",
       "Promotion           0\n",
       "week                0\n",
       "SalesInThousands    0\n",
       "dtype: int64"
      ]
     },
     "execution_count": 6,
     "metadata": {},
     "output_type": "execute_result"
    }
   ],
   "source": [
    "# Checking for null values \n",
    "dataset.isnull().sum()"
   ]
  },
  {
   "cell_type": "markdown",
   "id": "29d22a1a",
   "metadata": {},
   "source": [
    "We don't have any null values in the dataset."
   ]
  },
  {
   "cell_type": "code",
   "execution_count": 7,
   "id": "cd83b8ce",
   "metadata": {},
   "outputs": [
    {
     "data": {
      "text/plain": [
       "Index(['MarketID', 'MarketSize', 'LocationID', 'AgeOfStore', 'Promotion',\n",
       "       'week', 'SalesInThousands'],\n",
       "      dtype='object')"
      ]
     },
     "execution_count": 7,
     "metadata": {},
     "output_type": "execute_result"
    }
   ],
   "source": [
    "# Names of the columns\n",
    "dataset.columns"
   ]
  },
  {
   "cell_type": "markdown",
   "id": "3f37d76c",
   "metadata": {},
   "source": [
    "We have 5 categorical features and 2 numerical features out of which our target variable is the \"SalesInThousands\" that we be used for the A/B Testing"
   ]
  },
  {
   "cell_type": "code",
   "execution_count": 41,
   "id": "1795980b",
   "metadata": {},
   "outputs": [],
   "source": [
    "# separating the qualitative data and quantitative data separately\n",
    "dataset_cat = dataset.loc[:,[\"MarketID\", \"MarketSize\", \"LocationID\", \"Promotion\",\"week\"]]\n",
    "dataset_num = dataset.loc[:,[\"AgeOfStore\",\"SalesInThousands\"]]"
   ]
  },
  {
   "cell_type": "code",
   "execution_count": 42,
   "id": "571d1f77",
   "metadata": {},
   "outputs": [
    {
     "data": {
      "text/html": [
       "<div>\n",
       "<style scoped>\n",
       "    .dataframe tbody tr th:only-of-type {\n",
       "        vertical-align: middle;\n",
       "    }\n",
       "\n",
       "    .dataframe tbody tr th {\n",
       "        vertical-align: top;\n",
       "    }\n",
       "\n",
       "    .dataframe thead th {\n",
       "        text-align: right;\n",
       "    }\n",
       "</style>\n",
       "<table border=\"1\" class=\"dataframe\">\n",
       "  <thead>\n",
       "    <tr style=\"text-align: right;\">\n",
       "      <th></th>\n",
       "      <th>MarketID</th>\n",
       "      <th>MarketSize</th>\n",
       "      <th>LocationID</th>\n",
       "      <th>Promotion</th>\n",
       "      <th>week</th>\n",
       "    </tr>\n",
       "  </thead>\n",
       "  <tbody>\n",
       "    <tr>\n",
       "      <th>0</th>\n",
       "      <td>1</td>\n",
       "      <td>Medium</td>\n",
       "      <td>1</td>\n",
       "      <td>3</td>\n",
       "      <td>1</td>\n",
       "    </tr>\n",
       "    <tr>\n",
       "      <th>1</th>\n",
       "      <td>1</td>\n",
       "      <td>Medium</td>\n",
       "      <td>1</td>\n",
       "      <td>3</td>\n",
       "      <td>2</td>\n",
       "    </tr>\n",
       "    <tr>\n",
       "      <th>2</th>\n",
       "      <td>1</td>\n",
       "      <td>Medium</td>\n",
       "      <td>1</td>\n",
       "      <td>3</td>\n",
       "      <td>3</td>\n",
       "    </tr>\n",
       "    <tr>\n",
       "      <th>3</th>\n",
       "      <td>1</td>\n",
       "      <td>Medium</td>\n",
       "      <td>1</td>\n",
       "      <td>3</td>\n",
       "      <td>4</td>\n",
       "    </tr>\n",
       "    <tr>\n",
       "      <th>4</th>\n",
       "      <td>1</td>\n",
       "      <td>Medium</td>\n",
       "      <td>2</td>\n",
       "      <td>2</td>\n",
       "      <td>1</td>\n",
       "    </tr>\n",
       "  </tbody>\n",
       "</table>\n",
       "</div>"
      ],
      "text/plain": [
       "   MarketID MarketSize  LocationID  Promotion  week\n",
       "0         1     Medium           1          3     1\n",
       "1         1     Medium           1          3     2\n",
       "2         1     Medium           1          3     3\n",
       "3         1     Medium           1          3     4\n",
       "4         1     Medium           2          2     1"
      ]
     },
     "execution_count": 42,
     "metadata": {},
     "output_type": "execute_result"
    }
   ],
   "source": [
    "dataset_cat.head()"
   ]
  },
  {
   "cell_type": "code",
   "execution_count": 10,
   "id": "75fe043c",
   "metadata": {},
   "outputs": [
    {
     "data": {
      "text/html": [
       "<div>\n",
       "<style scoped>\n",
       "    .dataframe tbody tr th:only-of-type {\n",
       "        vertical-align: middle;\n",
       "    }\n",
       "\n",
       "    .dataframe tbody tr th {\n",
       "        vertical-align: top;\n",
       "    }\n",
       "\n",
       "    .dataframe thead th {\n",
       "        text-align: right;\n",
       "    }\n",
       "</style>\n",
       "<table border=\"1\" class=\"dataframe\">\n",
       "  <thead>\n",
       "    <tr style=\"text-align: right;\">\n",
       "      <th></th>\n",
       "      <th>AgeOfStore</th>\n",
       "      <th>SalesInThousands</th>\n",
       "    </tr>\n",
       "  </thead>\n",
       "  <tbody>\n",
       "    <tr>\n",
       "      <th>0</th>\n",
       "      <td>4</td>\n",
       "      <td>33.73</td>\n",
       "    </tr>\n",
       "    <tr>\n",
       "      <th>1</th>\n",
       "      <td>4</td>\n",
       "      <td>35.67</td>\n",
       "    </tr>\n",
       "    <tr>\n",
       "      <th>2</th>\n",
       "      <td>4</td>\n",
       "      <td>29.03</td>\n",
       "    </tr>\n",
       "    <tr>\n",
       "      <th>3</th>\n",
       "      <td>4</td>\n",
       "      <td>39.25</td>\n",
       "    </tr>\n",
       "    <tr>\n",
       "      <th>4</th>\n",
       "      <td>5</td>\n",
       "      <td>27.81</td>\n",
       "    </tr>\n",
       "  </tbody>\n",
       "</table>\n",
       "</div>"
      ],
      "text/plain": [
       "   AgeOfStore  SalesInThousands\n",
       "0           4             33.73\n",
       "1           4             35.67\n",
       "2           4             29.03\n",
       "3           4             39.25\n",
       "4           5             27.81"
      ]
     },
     "execution_count": 10,
     "metadata": {},
     "output_type": "execute_result"
    }
   ],
   "source": [
    "dataset_num.head()"
   ]
  },
  {
   "cell_type": "code",
   "execution_count": 11,
   "id": "cebd6426",
   "metadata": {},
   "outputs": [
    {
     "data": {
      "text/plain": [
       "MarketID       10\n",
       "MarketSize      3\n",
       "LocationID    137\n",
       "Promotion       3\n",
       "week            4\n",
       "dtype: int64"
      ]
     },
     "execution_count": 11,
     "metadata": {},
     "output_type": "execute_result"
    }
   ],
   "source": [
    "# Checking whether categorical features have appropiate levels\n",
    "dataset_cat.nunique()"
   ]
  },
  {
   "cell_type": "code",
   "execution_count": 12,
   "id": "9d61e19d",
   "metadata": {},
   "outputs": [
    {
     "name": "stdout",
     "output_type": "stream",
     "text": [
      "MARKETID  :-  [ 1  2  3  4  5  6  7  8  9 10] \n",
      "\n",
      "MARKETSIZE  :-  ['Medium' 'Small' 'Large'] \n",
      "\n",
      "LOCATIONID  :-  [  1   2   3   4   5   6   7   8   9  10  11  12  13 101 102 103 104 105\n",
      " 106 201 202 203 204 205 206 207 208 209 210 211 212 213 214 215 216 217\n",
      " 218 219 220 221 222 301 302 303 304 305 306 307 308 309 401 402 403 404\n",
      " 405 406 407 408 409 410 411 412 413 414 415 501 502 503 504 505 506 507\n",
      " 508 509 510 511 512 513 514 515 601 602 603 604 605 606 607 608 609 610\n",
      " 611 612 613 614 615 701 702 703 704 705 706 707 708 709 710 711 712 801\n",
      " 802 803 804 805 806 807 808 809 810 901 902 903 904 905 906 907 908 909\n",
      " 910 911 912 913 914 915 916 917 918 919 920] \n",
      "\n",
      "PROMOTION  :-  [3 2 1] \n",
      "\n",
      "WEEK  :-  [1 2 3 4] \n",
      "\n"
     ]
    }
   ],
   "source": [
    "# Appropiate levels of Categorical Feature individually\n",
    "for i in dataset_cat:\n",
    "    print(i.upper(),\" :- \", dataset_cat[i].unique(),\"\\n\")\n",
    "    "
   ]
  },
  {
   "cell_type": "markdown",
   "id": "ea67f380",
   "metadata": {},
   "source": [
    "# Univariant Analysis "
   ]
  },
  {
   "cell_type": "markdown",
   "id": "356e1a53",
   "metadata": {},
   "source": [
    "### 1. MarketID"
   ]
  },
  {
   "cell_type": "code",
   "execution_count": 32,
   "id": "9f5cb1a1",
   "metadata": {},
   "outputs": [
    {
     "data": {
      "image/png": "[encoded data removed]",
      "text/plain": [
       "<Figure size 1000x800 with 2 Axes>"
      ]
     },
     "metadata": {},
     "output_type": "display_data"
    }
   ],
   "source": [
    "variable = \"MarketID\"\n",
    "\n",
    "plt.figure(figsize = (10,8))\n",
    "\n",
    "# Histogram plot\n",
    "plt.subplot(1,2,1)\n",
    "# sns.countplot(x=variable,data=dataset_cat,order = dataset_cat[variable].value_counts().index)\n",
    "sns.countplot(x = dataset_cat[variable],data = dataset_cat,order = dataset_cat[variable].value_counts().index)\n",
    "plt.title(f\"Count Plot for {variable}\")\n",
    "\n",
    "# Pie Chart \n",
    "plt.subplot(1,2,2)\n",
    "counts = dataset_cat[variable].value_counts()/4\n",
    "plt.pie(counts,labels = counts.index ,autopct='%0.2f%%')\n",
    "plt.title(f\"Pie Chart of {variable}\")\n",
    "\n",
    "# Adjust layout\n",
    "plt.tight_layout()\n",
    "# Show plot\n",
    "plt.show()"
   ]
  },
  {
   "cell_type": "markdown",
   "id": "1014285d",
   "metadata": {},
   "source": [
    "MartketID 3 and 10 were the markets which had most number of promotions being made, subsequently MarketID with 5,6 and 7 had eqaual number of promotions."
   ]
  },
  {
   "cell_type": "markdown",
   "id": "370d5de1",
   "metadata": {},
   "source": [
    "### 2. MarketSize"
   ]
  },
  {
   "cell_type": "code",
   "execution_count": 16,
   "id": "e06502c2",
   "metadata": {},
   "outputs": [
    {
     "data": {
      "image/png": "[encoded data removed]",
      "text/plain": [
       "<Figure size 1000x800 with 2 Axes>"
      ]
     },
     "metadata": {},
     "output_type": "display_data"
    }
   ],
   "source": [
    "variable = \"MarketSize\"\n",
    "\n",
    "plt.figure(figsize = (10,8))\n",
    "\n",
    "# Count Plot\n",
    "plt.subplot(1,2,1)\n",
    "sns.countplot(x=variable,data = dataset_cat)\n",
    "plt.title(f\"Count Plot {variable}\")\n",
    "\n",
    "# Pie Chart \n",
    "plt.subplot(1,2,2)\n",
    "counts = dataset_cat[variable].value_counts()\n",
    "plt.pie(x=counts,labels = counts.index, autopct = \"%0.2f%%\" )\n",
    "plt.title(f\"Pie Chart of {variable}\")\n",
    "\n",
    "# Adjust layout\n",
    "plt.tight_layout()\n",
    "\n",
    "# Show Plot\n",
    "plt.show()"
   ]
  },
  {
   "cell_type": "markdown",
   "id": "1a39536f",
   "metadata": {},
   "source": [
    "Most of the promotions were made in the Medium size market followed by \"Large\" market size and least promotion were made in the \"small\" for the Fast Food chain."
   ]
  },
  {
   "cell_type": "markdown",
   "id": "d3f9bdf2",
   "metadata": {},
   "source": [
    "### 3. LocationID"
   ]
  },
  {
   "cell_type": "code",
   "execution_count": 34,
   "id": "2e6e0b8b",
   "metadata": {},
   "outputs": [
    {
     "data": {
      "text/plain": [
       "1      4\n",
       "2      4\n",
       "3      4\n",
       "4      4\n",
       "5      4\n",
       "      ..\n",
       "916    4\n",
       "917    4\n",
       "918    4\n",
       "919    4\n",
       "920    4\n",
       "Name: LocationID, Length: 137, dtype: int64"
      ]
     },
     "execution_count": 34,
     "metadata": {},
     "output_type": "execute_result"
    }
   ],
   "source": [
    "dataset_cat[\"LocationID\"].value_counts().sort_index()"
   ]
  }
 ],
 "metadata": {
  "kernelspec": {
   "display_name": "Python 3 (ipykernel)",
   "language": "python",
   "name": "python3"
  },
  "language_info": {
   "codemirror_mode": {
    "name": "ipython",
    "version": 3
   },
   "file_extension": ".py",
   "mimetype": "text/x-python",
   "name": "python",
   "nbconvert_exporter": "python",
   "pygments_lexer": "ipython3",
   "version": "3.10.9"
  }
 },
 "nbformat": 4,
 "nbformat_minor": 5
}
